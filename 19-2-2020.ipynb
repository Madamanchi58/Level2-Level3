{
 "cells": [
  {
   "cell_type": "markdown",
   "metadata": {},
   "source": [
    "# ensemble technique \n",
    "- ensemble technic is ml technique that combines multiple models to produce an optimal predictive model.(combination of multiple models )\n",
    "##  two types of techniques\n",
    "1. bagging(bootstrap Aggrigation)\n",
    "2. boosting"
   ]
  },
  {
   "cell_type": "markdown",
   "metadata": {},
   "source": [
    "# bagging technique\n",
    "- bagging is a ensemble technique that mainly used to reduce the variance of predictions by combing the result of  multiple classifiers"
   ]
  },
  {
   "cell_type": "markdown",
   "metadata": {},
   "source": [
    "#  boosting Technique\n",
    "* boosting is method of converting a set of weak learners into strong learners \n",
    "-Three types of algorithms\n",
    "    1.Adaboost (Adaptive)\n",
    "    2.Gradient Boosting\n",
    "    3.XBoosting (Extended Gradient)"
   ]
  },
  {
   "cell_type": "markdown",
   "metadata": {},
   "source": [
    "<img src=\"boost.png\" width=500 height=500>"
   ]
  },
  {
   "cell_type": "markdown",
   "metadata": {},
   "source": [
    "<img src=\"bagging.png\" width=500 height=500>"
   ]
  },
  {
   "cell_type": "code",
   "execution_count": null,
   "metadata": {},
   "outputs": [],
   "source": []
  }
 ],
 "metadata": {
  "kernelspec": {
   "display_name": "Python 3",
   "language": "python",
   "name": "python3"
  },
  "language_info": {
   "codemirror_mode": {
    "name": "ipython",
    "version": 3
   },
   "file_extension": ".py",
   "mimetype": "text/x-python",
   "name": "python",
   "nbconvert_exporter": "python",
   "pygments_lexer": "ipython3",
   "version": "3.7.1"
  }
 },
 "nbformat": 4,
 "nbformat_minor": 2
}
